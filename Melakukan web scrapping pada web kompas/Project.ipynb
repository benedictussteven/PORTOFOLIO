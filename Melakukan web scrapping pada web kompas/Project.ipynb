{
  "cells": [
    {
      "cell_type": "code",
      "execution_count": null,
      "id": "47223c37",
      "metadata": {
        "id": "47223c37"
      },
      "outputs": [],
      "source": [
        "import requests\n",
        "from bs4 import BeautifulSoup\n",
        "import pandas as pd\n",
        "import json, re, string\n",
        "import pandas as pd\n",
        "from nltk.tokenize import word_tokenize, sent_tokenize\n",
        "from nltk.corpus import stopwords\n",
        "from Sastrawi.Stemmer.StemmerFactory import StemmerFactory as SF\n",
        "import nltk\n",
        "import numpy as np"
      ]
    },
    {
      "cell_type": "code",
      "execution_count": null,
      "id": "843e42d2",
      "metadata": {
        "id": "843e42d2"
      },
      "outputs": [],
      "source": [
        "#scraping page 1\n",
        "website = requests.get(\"https://indeks.kompas.com/?site=all&date=2021-12-01\")\n",
        "soup = BeautifulSoup(website.content,\"html.parser\")\n",
        "\n",
        "judul = soup.find_all(\"div\", class_='article__list__title')\n",
        "tanggal = soup.find_all(\"div\", class_='article__date')\n",
        "\n",
        "hasil_judul = []\n",
        "hasil_tanggal = []\n",
        "\n",
        "\n",
        "for i in range (40):\n",
        "    hasil_judul.append(judul[i].find(\"h3\").text)\n",
        "    hasil_tanggal.append(tanggal[i].text)\n",
        "    \n"
      ]
    },
    {
      "cell_type": "code",
      "execution_count": null,
      "id": "0c817b72",
      "metadata": {
        "id": "0c817b72"
      },
      "outputs": [],
      "source": [
        "# print(hasil_judul)"
      ]
    },
    {
      "cell_type": "code",
      "execution_count": null,
      "id": "7a19e612",
      "metadata": {
        "id": "7a19e612"
      },
      "outputs": [],
      "source": [
        "# print(hasil_tanggal)"
      ]
    },
    {
      "cell_type": "code",
      "execution_count": null,
      "id": "326adacc",
      "metadata": {
        "id": "326adacc",
        "outputId": "f7dd0c83-929d-4f64-d9b8-846b91538f6f"
      },
      "outputs": [
        {
          "data": {
            "text/html": [
              "<div>\n",
              "<style scoped>\n",
              "    .dataframe tbody tr th:only-of-type {\n",
              "        vertical-align: middle;\n",
              "    }\n",
              "\n",
              "    .dataframe tbody tr th {\n",
              "        vertical-align: top;\n",
              "    }\n",
              "\n",
              "    .dataframe thead th {\n",
              "        text-align: right;\n",
              "    }\n",
              "</style>\n",
              "<table border=\"1\" class=\"dataframe\">\n",
              "  <thead>\n",
              "    <tr style=\"text-align: right;\">\n",
              "      <th></th>\n",
              "      <th>date</th>\n",
              "      <th>title</th>\n",
              "    </tr>\n",
              "  </thead>\n",
              "  <tbody>\n",
              "    <tr>\n",
              "      <th>0</th>\n",
              "      <td>01/12/2021, 23:59 WIB</td>\n",
              "      <td>Genoa Vs AC Milan, Shevchenko Ingin Buat Manta...</td>\n",
              "    </tr>\n",
              "    <tr>\n",
              "      <th>1</th>\n",
              "      <td>01/12/2021, 23:55 WIB</td>\n",
              "      <td>ODHA di Depok Masih Dapat Stigma Negatif</td>\n",
              "    </tr>\n",
              "    <tr>\n",
              "      <th>2</th>\n",
              "      <td>01/12/2021, 23:52 WIB</td>\n",
              "      <td>Pemprov Jakarta Bentuk Tim Khusus Awasi Alat M...</td>\n",
              "    </tr>\n",
              "    <tr>\n",
              "      <th>3</th>\n",
              "      <td>01/12/2021, 23:43 WIB</td>\n",
              "      <td>Penonton Lokal Piala AFF 2020 Acuhkan 5 Aturan...</td>\n",
              "    </tr>\n",
              "    <tr>\n",
              "      <th>4</th>\n",
              "      <td>01/12/2021, 23:40 WIB</td>\n",
              "      <td>Pada Akhir Pekan, Penumpang di Bandara Soekarn...</td>\n",
              "    </tr>\n",
              "  </tbody>\n",
              "</table>\n",
              "</div>"
            ],
            "text/plain": [
              "                    date                                              title\n",
              "0  01/12/2021, 23:59 WIB  Genoa Vs AC Milan, Shevchenko Ingin Buat Manta...\n",
              "1  01/12/2021, 23:55 WIB           ODHA di Depok Masih Dapat Stigma Negatif\n",
              "2  01/12/2021, 23:52 WIB  Pemprov Jakarta Bentuk Tim Khusus Awasi Alat M...\n",
              "3  01/12/2021, 23:43 WIB  Penonton Lokal Piala AFF 2020 Acuhkan 5 Aturan...\n",
              "4  01/12/2021, 23:40 WIB  Pada Akhir Pekan, Penumpang di Bandara Soekarn..."
            ]
          },
          "execution_count": 183,
          "metadata": {},
          "output_type": "execute_result"
        }
      ],
      "source": [
        "df = pd.DataFrame(list(zip(hasil_tanggal, hasil_judul)), columns=['date', 'title'])\n",
        "df.head()"
      ]
    },
    {
      "cell_type": "code",
      "execution_count": null,
      "id": "3cea5e32",
      "metadata": {
        "scrolled": false,
        "id": "3cea5e32",
        "outputId": "5af21f3d-3201-466a-d4c6-cf893309070c"
      },
      "outputs": [
        {
          "data": {
            "text/html": [
              "<div>\n",
              "<style scoped>\n",
              "    .dataframe tbody tr th:only-of-type {\n",
              "        vertical-align: middle;\n",
              "    }\n",
              "\n",
              "    .dataframe tbody tr th {\n",
              "        vertical-align: top;\n",
              "    }\n",
              "\n",
              "    .dataframe thead th {\n",
              "        text-align: right;\n",
              "    }\n",
              "</style>\n",
              "<table border=\"1\" class=\"dataframe\">\n",
              "  <thead>\n",
              "    <tr style=\"text-align: right;\">\n",
              "      <th></th>\n",
              "      <th>date</th>\n",
              "      <th>title</th>\n",
              "    </tr>\n",
              "  </thead>\n",
              "  <tbody>\n",
              "    <tr>\n",
              "      <th>0</th>\n",
              "      <td>01/12/2021, 21:45 WIB</td>\n",
              "      <td>Usai Dirundung Pandemi Covid-19, Liga Super Ch...</td>\n",
              "    </tr>\n",
              "    <tr>\n",
              "      <th>1</th>\n",
              "      <td>01/12/2021, 21:43 WIB</td>\n",
              "      <td>Hasil Olah TKP Kasus Pelecehan Seksual Mahasis...</td>\n",
              "    </tr>\n",
              "    <tr>\n",
              "      <th>2</th>\n",
              "      <td>01/12/2021, 21:41 WIB</td>\n",
              "      <td>Minta Parlemen Didik Taliban agar Tidak Terlih...</td>\n",
              "    </tr>\n",
              "    <tr>\n",
              "      <th>3</th>\n",
              "      <td>01/12/2021, 21:40 WIB</td>\n",
              "      <td>Alasan Grealish Tidak Mau Main di Manchester U...</td>\n",
              "    </tr>\n",
              "    <tr>\n",
              "      <th>4</th>\n",
              "      <td>01/12/2021, 21:39 WIB</td>\n",
              "      <td>Kata Luhut, Turis di Bali Paling Irit Dibandin...</td>\n",
              "    </tr>\n",
              "  </tbody>\n",
              "</table>\n",
              "</div>"
            ],
            "text/plain": [
              "                    date                                              title\n",
              "0  01/12/2021, 21:45 WIB  Usai Dirundung Pandemi Covid-19, Liga Super Ch...\n",
              "1  01/12/2021, 21:43 WIB  Hasil Olah TKP Kasus Pelecehan Seksual Mahasis...\n",
              "2  01/12/2021, 21:41 WIB  Minta Parlemen Didik Taliban agar Tidak Terlih...\n",
              "3  01/12/2021, 21:40 WIB  Alasan Grealish Tidak Mau Main di Manchester U...\n",
              "4  01/12/2021, 21:39 WIB  Kata Luhut, Turis di Bali Paling Irit Dibandin..."
            ]
          },
          "execution_count": 184,
          "metadata": {},
          "output_type": "execute_result"
        }
      ],
      "source": [
        "#scraping page 2\n",
        "website2 = requests.get(\"https://indeks.kompas.com/?site=all&date=2021-12-01&page=2\")\n",
        "soup2 = BeautifulSoup(website2.content,\"html.parser\")\n",
        "\n",
        "judul2 = soup2.find_all(\"div\", class_='article__list__title')\n",
        "tanggal2 = soup2.find_all(\"div\", class_='article__date')\n",
        "\n",
        "hasil_judul2 = []\n",
        "hasil_tanggal2 = []\n",
        "\n",
        "\n",
        "for i in range (40):\n",
        "    hasil_judul2.append(judul2[i].find(\"h3\").text)\n",
        "    hasil_tanggal2.append(tanggal2[i].text)\n",
        "    \n",
        "df2 = pd.DataFrame(list(zip(hasil_tanggal2, hasil_judul2)), columns=['date', 'title'])\n",
        "df2.head()"
      ]
    },
    {
      "cell_type": "code",
      "execution_count": null,
      "id": "985b2325",
      "metadata": {
        "id": "985b2325",
        "outputId": "5d1015e7-30fb-4812-a43f-22301c775d98"
      },
      "outputs": [
        {
          "data": {
            "text/html": [
              "<div>\n",
              "<style scoped>\n",
              "    .dataframe tbody tr th:only-of-type {\n",
              "        vertical-align: middle;\n",
              "    }\n",
              "\n",
              "    .dataframe tbody tr th {\n",
              "        vertical-align: top;\n",
              "    }\n",
              "\n",
              "    .dataframe thead th {\n",
              "        text-align: right;\n",
              "    }\n",
              "</style>\n",
              "<table border=\"1\" class=\"dataframe\">\n",
              "  <thead>\n",
              "    <tr style=\"text-align: right;\">\n",
              "      <th></th>\n",
              "      <th>date</th>\n",
              "      <th>title</th>\n",
              "    </tr>\n",
              "  </thead>\n",
              "  <tbody>\n",
              "    <tr>\n",
              "      <th>0</th>\n",
              "      <td>01/12/2021, 20:53 WIB</td>\n",
              "      <td>Kembali Hadir, FFFest 2021 Jadi Event Kolabora...</td>\n",
              "    </tr>\n",
              "    <tr>\n",
              "      <th>1</th>\n",
              "      <td>01/12/2021, 20:50 WIB</td>\n",
              "      <td>Tabrak Truk Fuso yang Sedang Berhenti di Bypas...</td>\n",
              "    </tr>\n",
              "    <tr>\n",
              "      <th>2</th>\n",
              "      <td>01/12/2021, 20:48 WIB</td>\n",
              "      <td>Reksadana Pasar Uang: Definisi, Keuntungan, da...</td>\n",
              "    </tr>\n",
              "    <tr>\n",
              "      <th>3</th>\n",
              "      <td>01/12/2021, 20:46 WIB</td>\n",
              "      <td>Cerita Warga Gunungkidul Relakan Tanahnya Dite...</td>\n",
              "    </tr>\n",
              "    <tr>\n",
              "      <th>4</th>\n",
              "      <td>01/12/2021, 20:44 WIB</td>\n",
              "      <td>Dua Mahasiswi Unsri Kembali Jadi Korban Pelece...</td>\n",
              "    </tr>\n",
              "  </tbody>\n",
              "</table>\n",
              "</div>"
            ],
            "text/plain": [
              "                    date                                              title\n",
              "0  01/12/2021, 20:53 WIB  Kembali Hadir, FFFest 2021 Jadi Event Kolabora...\n",
              "1  01/12/2021, 20:50 WIB  Tabrak Truk Fuso yang Sedang Berhenti di Bypas...\n",
              "2  01/12/2021, 20:48 WIB  Reksadana Pasar Uang: Definisi, Keuntungan, da...\n",
              "3  01/12/2021, 20:46 WIB  Cerita Warga Gunungkidul Relakan Tanahnya Dite...\n",
              "4  01/12/2021, 20:44 WIB  Dua Mahasiswi Unsri Kembali Jadi Korban Pelece..."
            ]
          },
          "execution_count": 185,
          "metadata": {},
          "output_type": "execute_result"
        }
      ],
      "source": [
        "#scraping page 3\n",
        "website3 = requests.get(\"https://indeks.kompas.com/?site=all&date=2021-12-01&page=3\")\n",
        "soup3 = BeautifulSoup(website3.content,\"html.parser\")\n",
        "\n",
        "judul3 = soup3.find_all(\"div\", class_='article__list__title')\n",
        "tanggal3 = soup3.find_all(\"div\", class_='article__date')\n",
        "\n",
        "hasil_judul3 = []\n",
        "hasil_tanggal3 = []\n",
        "\n",
        "\n",
        "for i in range (40):\n",
        "    hasil_judul3.append(judul3[i].find(\"h3\").text)\n",
        "    hasil_tanggal3.append(tanggal3[i].text)\n",
        "    \n",
        "df3 = pd.DataFrame(list(zip(hasil_tanggal3, hasil_judul3)), columns=['date', 'title'])\n",
        "df3.head()"
      ]
    },
    {
      "cell_type": "code",
      "execution_count": null,
      "id": "f9191fd9",
      "metadata": {
        "id": "f9191fd9",
        "outputId": "3a924e76-7152-44d5-853b-a8af25341052"
      },
      "outputs": [
        {
          "data": {
            "text/html": [
              "<div>\n",
              "<style scoped>\n",
              "    .dataframe tbody tr th:only-of-type {\n",
              "        vertical-align: middle;\n",
              "    }\n",
              "\n",
              "    .dataframe tbody tr th {\n",
              "        vertical-align: top;\n",
              "    }\n",
              "\n",
              "    .dataframe thead th {\n",
              "        text-align: right;\n",
              "    }\n",
              "</style>\n",
              "<table border=\"1\" class=\"dataframe\">\n",
              "  <thead>\n",
              "    <tr style=\"text-align: right;\">\n",
              "      <th></th>\n",
              "      <th>date</th>\n",
              "      <th>title</th>\n",
              "    </tr>\n",
              "  </thead>\n",
              "  <tbody>\n",
              "    <tr>\n",
              "      <th>0</th>\n",
              "      <td>01/12/2021, 20:05 WIB</td>\n",
              "      <td>Mantan Perdana Menteri Lesotho Didakwa atas Pe...</td>\n",
              "    </tr>\n",
              "    <tr>\n",
              "      <th>1</th>\n",
              "      <td>01/12/2021, 20:05 WIB</td>\n",
              "      <td>Sepenggal Cerita Petani Tembakau, dari Warisan...</td>\n",
              "    </tr>\n",
              "    <tr>\n",
              "      <th>2</th>\n",
              "      <td>01/12/2021, 20:05 WIB</td>\n",
              "      <td>5 Aplikasi Gratis untuk Berbagi File di Ponsel...</td>\n",
              "    </tr>\n",
              "    <tr>\n",
              "      <th>3</th>\n",
              "      <td>01/12/2021, 20:04 WIB</td>\n",
              "      <td>Polisi: Peran 2 Terduga Teroris di Luwu Timur,...</td>\n",
              "    </tr>\n",
              "    <tr>\n",
              "      <th>4</th>\n",
              "      <td>01/12/2021, 20:03 WIB</td>\n",
              "      <td>Kesedihan Nora Alexandra Antar Jerinx ke Ruang...</td>\n",
              "    </tr>\n",
              "  </tbody>\n",
              "</table>\n",
              "</div>"
            ],
            "text/plain": [
              "                    date                                              title\n",
              "0  01/12/2021, 20:05 WIB  Mantan Perdana Menteri Lesotho Didakwa atas Pe...\n",
              "1  01/12/2021, 20:05 WIB  Sepenggal Cerita Petani Tembakau, dari Warisan...\n",
              "2  01/12/2021, 20:05 WIB  5 Aplikasi Gratis untuk Berbagi File di Ponsel...\n",
              "3  01/12/2021, 20:04 WIB  Polisi: Peran 2 Terduga Teroris di Luwu Timur,...\n",
              "4  01/12/2021, 20:03 WIB  Kesedihan Nora Alexandra Antar Jerinx ke Ruang..."
            ]
          },
          "execution_count": 186,
          "metadata": {},
          "output_type": "execute_result"
        }
      ],
      "source": [
        "#scraping page 4\n",
        "website4 = requests.get(\"https://indeks.kompas.com/?site=all&date=2021-12-01&page=4\")\n",
        "soup4 = BeautifulSoup(website4.content,\"html.parser\")\n",
        "\n",
        "judul4 = soup4.find_all(\"div\", class_='article__list__title')\n",
        "tanggal4 = soup4.find_all(\"div\", class_='article__date')\n",
        "\n",
        "hasil_judul4 = []\n",
        "hasil_tanggal4 = []\n",
        "\n",
        "\n",
        "for i in range (40):\n",
        "    hasil_judul4.append(judul4[i].find(\"h3\").text)\n",
        "    hasil_tanggal4.append(tanggal4[i].text)\n",
        "    \n",
        "df4 = pd.DataFrame(list(zip(hasil_tanggal4, hasil_judul4)), columns=['date', 'title'])\n",
        "df4.head()"
      ]
    },
    {
      "cell_type": "code",
      "execution_count": null,
      "id": "79fa5b5b",
      "metadata": {
        "id": "79fa5b5b",
        "outputId": "d60553fd-1d30-457b-8cfd-2008fe1a1d5a"
      },
      "outputs": [
        {
          "data": {
            "text/html": [
              "<div>\n",
              "<style scoped>\n",
              "    .dataframe tbody tr th:only-of-type {\n",
              "        vertical-align: middle;\n",
              "    }\n",
              "\n",
              "    .dataframe tbody tr th {\n",
              "        vertical-align: top;\n",
              "    }\n",
              "\n",
              "    .dataframe thead th {\n",
              "        text-align: right;\n",
              "    }\n",
              "</style>\n",
              "<table border=\"1\" class=\"dataframe\">\n",
              "  <thead>\n",
              "    <tr style=\"text-align: right;\">\n",
              "      <th></th>\n",
              "      <th>date</th>\n",
              "      <th>title</th>\n",
              "    </tr>\n",
              "  </thead>\n",
              "  <tbody>\n",
              "    <tr>\n",
              "      <th>0</th>\n",
              "      <td>01/12/2021, 19:33 WIB</td>\n",
              "      <td>Mahasiswa UGM Teliti Ubur-ubur sebagai Pengham...</td>\n",
              "    </tr>\n",
              "    <tr>\n",
              "      <th>1</th>\n",
              "      <td>01/12/2021, 19:32 WIB</td>\n",
              "      <td>Contoh-contoh Energi Alternatif Terbarukan</td>\n",
              "    </tr>\n",
              "    <tr>\n",
              "      <th>2</th>\n",
              "      <td>01/12/2021, 19:30 WIB</td>\n",
              "      <td>Ditahan Lagi, Ini Perjalanan Kasus Jerinx SID ...</td>\n",
              "    </tr>\n",
              "    <tr>\n",
              "      <th>3</th>\n",
              "      <td>01/12/2021, 19:30 WIB</td>\n",
              "      <td>Lirik dan Chord Lagu Seventeen Going Under - S...</td>\n",
              "    </tr>\n",
              "    <tr>\n",
              "      <th>4</th>\n",
              "      <td>01/12/2021, 19:30 WIB</td>\n",
              "      <td>Kebal Krisis, Properti Syariah Tumbuh Eksponen...</td>\n",
              "    </tr>\n",
              "  </tbody>\n",
              "</table>\n",
              "</div>"
            ],
            "text/plain": [
              "                    date                                              title\n",
              "0  01/12/2021, 19:33 WIB  Mahasiswa UGM Teliti Ubur-ubur sebagai Pengham...\n",
              "1  01/12/2021, 19:32 WIB         Contoh-contoh Energi Alternatif Terbarukan\n",
              "2  01/12/2021, 19:30 WIB  Ditahan Lagi, Ini Perjalanan Kasus Jerinx SID ...\n",
              "3  01/12/2021, 19:30 WIB  Lirik dan Chord Lagu Seventeen Going Under - S...\n",
              "4  01/12/2021, 19:30 WIB  Kebal Krisis, Properti Syariah Tumbuh Eksponen..."
            ]
          },
          "execution_count": 187,
          "metadata": {},
          "output_type": "execute_result"
        }
      ],
      "source": [
        "#scraping page 5\n",
        "website5 = requests.get(\"https://indeks.kompas.com/?site=all&date=2021-12-01&page=5\")\n",
        "soup5 = BeautifulSoup(website5.content,\"html.parser\")\n",
        "\n",
        "judul5 = soup5.find_all(\"div\", class_='article__list__title')\n",
        "tanggal5 = soup5.find_all(\"div\", class_='article__date')\n",
        "\n",
        "hasil_judul5 = []\n",
        "hasil_tanggal5 = []\n",
        "\n",
        "\n",
        "for i in range (40):\n",
        "    hasil_judul5.append(judul5[i].find(\"h3\").text)\n",
        "    hasil_tanggal5.append(tanggal5[i].text)\n",
        "\n",
        "df5 = pd.DataFrame(list(zip(hasil_tanggal5, hasil_judul5)), columns=['date', 'title'])\n",
        "df5.head()"
      ]
    },
    {
      "cell_type": "code",
      "execution_count": null,
      "id": "aec3275a",
      "metadata": {
        "id": "aec3275a"
      },
      "outputs": [],
      "source": [
        "df = df.append(df2, ignore_index = True)\n",
        "df = df.append(df3, ignore_index = True)\n",
        "df = df.append(df4, ignore_index = True)\n",
        "df = df.append(df5, ignore_index = True)"
      ]
    },
    {
      "cell_type": "code",
      "execution_count": null,
      "id": "3decb015",
      "metadata": {
        "id": "3decb015"
      },
      "outputs": [],
      "source": [
        "# df"
      ]
    },
    {
      "cell_type": "code",
      "execution_count": null,
      "id": "0837dce4",
      "metadata": {
        "id": "0837dce4",
        "outputId": "2293b003-9b97-4403-b091-9489d6b5a528"
      },
      "outputs": [
        {
          "data": {
            "text/plain": [
              "'01/12/2021'"
            ]
          },
          "execution_count": 190,
          "metadata": {},
          "output_type": "execute_result"
        }
      ],
      "source": [
        "edit_date = [tgl.split(',') for tgl in df['date']]\n",
        "edit_date[0][0]"
      ]
    },
    {
      "cell_type": "code",
      "execution_count": null,
      "id": "b80c26be",
      "metadata": {
        "id": "b80c26be",
        "outputId": "7554c1fb-0af3-4013-ce2b-5cda0ee8ade2"
      },
      "outputs": [
        {
          "data": {
            "text/plain": [
              "[['01/12/2021'],\n",
              " ['01/12/2021'],\n",
              " ['01/12/2021'],\n",
              " ['01/12/2021'],\n",
              " ['01/12/2021'],\n",
              " ['01/12/2021'],\n",
              " ['01/12/2021'],\n",
              " ['01/12/2021'],\n",
              " ['01/12/2021'],\n",
              " ['01/12/2021'],\n",
              " ['01/12/2021'],\n",
              " ['01/12/2021'],\n",
              " ['01/12/2021'],\n",
              " ['01/12/2021'],\n",
              " ['01/12/2021'],\n",
              " ['01/12/2021'],\n",
              " ['01/12/2021'],\n",
              " ['01/12/2021'],\n",
              " ['01/12/2021'],\n",
              " ['01/12/2021'],\n",
              " ['01/12/2021'],\n",
              " ['01/12/2021'],\n",
              " ['01/12/2021'],\n",
              " ['01/12/2021'],\n",
              " ['01/12/2021'],\n",
              " ['01/12/2021'],\n",
              " ['01/12/2021'],\n",
              " ['01/12/2021'],\n",
              " ['01/12/2021'],\n",
              " ['01/12/2021'],\n",
              " ['01/12/2021'],\n",
              " ['01/12/2021'],\n",
              " ['01/12/2021'],\n",
              " ['01/12/2021'],\n",
              " ['01/12/2021'],\n",
              " ['01/12/2021'],\n",
              " ['01/12/2021'],\n",
              " ['01/12/2021'],\n",
              " ['01/12/2021'],\n",
              " ['01/12/2021'],\n",
              " ['01/12/2021'],\n",
              " ['01/12/2021'],\n",
              " ['01/12/2021'],\n",
              " ['01/12/2021'],\n",
              " ['01/12/2021'],\n",
              " ['01/12/2021'],\n",
              " ['01/12/2021'],\n",
              " ['01/12/2021'],\n",
              " ['01/12/2021'],\n",
              " ['01/12/2021'],\n",
              " ['01/12/2021'],\n",
              " ['01/12/2021'],\n",
              " ['01/12/2021'],\n",
              " ['01/12/2021'],\n",
              " ['01/12/2021'],\n",
              " ['01/12/2021'],\n",
              " ['01/12/2021'],\n",
              " ['01/12/2021'],\n",
              " ['01/12/2021'],\n",
              " ['01/12/2021'],\n",
              " ['01/12/2021'],\n",
              " ['01/12/2021'],\n",
              " ['01/12/2021'],\n",
              " ['01/12/2021'],\n",
              " ['01/12/2021'],\n",
              " ['01/12/2021'],\n",
              " ['01/12/2021'],\n",
              " ['01/12/2021'],\n",
              " ['01/12/2021'],\n",
              " ['01/12/2021'],\n",
              " ['01/12/2021'],\n",
              " ['01/12/2021'],\n",
              " ['01/12/2021'],\n",
              " ['01/12/2021'],\n",
              " ['01/12/2021'],\n",
              " ['01/12/2021'],\n",
              " ['01/12/2021'],\n",
              " ['01/12/2021'],\n",
              " ['01/12/2021'],\n",
              " ['01/12/2021'],\n",
              " ['01/12/2021'],\n",
              " ['01/12/2021'],\n",
              " ['01/12/2021'],\n",
              " ['01/12/2021'],\n",
              " ['01/12/2021'],\n",
              " ['01/12/2021'],\n",
              " ['01/12/2021'],\n",
              " ['01/12/2021'],\n",
              " ['01/12/2021'],\n",
              " ['01/12/2021'],\n",
              " ['01/12/2021'],\n",
              " ['01/12/2021'],\n",
              " ['01/12/2021'],\n",
              " ['01/12/2021'],\n",
              " ['01/12/2021'],\n",
              " ['01/12/2021'],\n",
              " ['01/12/2021'],\n",
              " ['01/12/2021'],\n",
              " ['01/12/2021'],\n",
              " ['01/12/2021'],\n",
              " ['01/12/2021'],\n",
              " ['01/12/2021'],\n",
              " ['01/12/2021'],\n",
              " ['01/12/2021'],\n",
              " ['01/12/2021'],\n",
              " ['01/12/2021'],\n",
              " ['01/12/2021'],\n",
              " ['01/12/2021'],\n",
              " ['01/12/2021'],\n",
              " ['01/12/2021'],\n",
              " ['01/12/2021'],\n",
              " ['01/12/2021'],\n",
              " ['01/12/2021'],\n",
              " ['01/12/2021'],\n",
              " ['01/12/2021'],\n",
              " ['01/12/2021'],\n",
              " ['01/12/2021'],\n",
              " ['01/12/2021'],\n",
              " ['01/12/2021'],\n",
              " ['01/12/2021'],\n",
              " ['01/12/2021'],\n",
              " ['01/12/2021'],\n",
              " ['01/12/2021'],\n",
              " ['01/12/2021'],\n",
              " ['01/12/2021'],\n",
              " ['01/12/2021'],\n",
              " ['01/12/2021'],\n",
              " ['01/12/2021'],\n",
              " ['01/12/2021'],\n",
              " ['01/12/2021'],\n",
              " ['01/12/2021'],\n",
              " ['01/12/2021'],\n",
              " ['01/12/2021'],\n",
              " ['01/12/2021'],\n",
              " ['01/12/2021'],\n",
              " ['01/12/2021'],\n",
              " ['01/12/2021'],\n",
              " ['01/12/2021'],\n",
              " ['01/12/2021'],\n",
              " ['01/12/2021'],\n",
              " ['01/12/2021'],\n",
              " ['01/12/2021'],\n",
              " ['01/12/2021'],\n",
              " ['01/12/2021'],\n",
              " ['01/12/2021'],\n",
              " ['01/12/2021'],\n",
              " ['01/12/2021'],\n",
              " ['01/12/2021'],\n",
              " ['01/12/2021'],\n",
              " ['01/12/2021'],\n",
              " ['01/12/2021'],\n",
              " ['01/12/2021'],\n",
              " ['01/12/2021'],\n",
              " ['01/12/2021'],\n",
              " ['01/12/2021'],\n",
              " ['01/12/2021'],\n",
              " ['01/12/2021'],\n",
              " ['01/12/2021'],\n",
              " ['01/12/2021'],\n",
              " ['01/12/2021'],\n",
              " ['01/12/2021'],\n",
              " ['01/12/2021'],\n",
              " ['01/12/2021'],\n",
              " ['01/12/2021'],\n",
              " ['01/12/2021'],\n",
              " ['01/12/2021'],\n",
              " ['01/12/2021'],\n",
              " ['01/12/2021'],\n",
              " ['01/12/2021'],\n",
              " ['01/12/2021'],\n",
              " ['01/12/2021'],\n",
              " ['01/12/2021'],\n",
              " ['01/12/2021'],\n",
              " ['01/12/2021'],\n",
              " ['01/12/2021'],\n",
              " ['01/12/2021'],\n",
              " ['01/12/2021'],\n",
              " ['01/12/2021'],\n",
              " ['01/12/2021'],\n",
              " ['01/12/2021'],\n",
              " ['01/12/2021'],\n",
              " ['01/12/2021'],\n",
              " ['01/12/2021'],\n",
              " ['01/12/2021'],\n",
              " ['01/12/2021'],\n",
              " ['01/12/2021'],\n",
              " ['01/12/2021'],\n",
              " ['01/12/2021'],\n",
              " ['01/12/2021'],\n",
              " ['01/12/2021'],\n",
              " ['01/12/2021'],\n",
              " ['01/12/2021'],\n",
              " ['01/12/2021'],\n",
              " ['01/12/2021'],\n",
              " ['01/12/2021'],\n",
              " ['01/12/2021'],\n",
              " ['01/12/2021'],\n",
              " ['01/12/2021'],\n",
              " ['01/12/2021'],\n",
              " ['01/12/2021']]"
            ]
          },
          "execution_count": 191,
          "metadata": {},
          "output_type": "execute_result"
        }
      ],
      "source": [
        "for i in range(200):\n",
        "    del edit_date[i][1]\n",
        "    \n",
        "edit_date"
      ]
    },
    {
      "cell_type": "code",
      "execution_count": null,
      "id": "ea706a12",
      "metadata": {
        "id": "ea706a12"
      },
      "outputs": [],
      "source": [
        "df['date'] = edit_date\n",
        "df['date'] = [''.join(map(str, l)) for l in df['date']]\n",
        "df['date'] = pd.to_datetime(df['date'])\n",
        "\n",
        "df.to_csv('kompas_20211201.csv', index=False)"
      ]
    },
    {
      "cell_type": "code",
      "execution_count": null,
      "id": "db800611",
      "metadata": {
        "id": "db800611"
      },
      "outputs": [],
      "source": [
        "import json, re, string\n",
        "import pandas as pd\n",
        "from nltk.tokenize import word_tokenize, sent_tokenize\n",
        "from nltk.corpus import stopwords\n",
        "from Sastrawi.Stemmer.StemmerFactory import StemmerFactory as SF\n",
        "import nltk\n",
        "\n",
        "df = pd.read_csv('kompas_20211201.csv')\n",
        "\n",
        "df['clean_title'] = df['title']\n",
        "\n",
        "def case_folding(data):\n",
        "    data = data.lower()\n",
        "    data = ' '.join(re.sub(\"(@[A-Za-z0-9]+)|([^0-9A-Za-z \\t])|(\\w+:\\/\\/\\S+)\",\" \",data).split())\n",
        "    data = re.sub(r\"\\d+\", \"\", data)\n",
        "    data = data.translate(str.maketrans(\"\",\"\",string.punctuation))\n",
        "    data = re.sub(r\"\\n\",\"\",data)\n",
        "    data = re.sub(r\"\\t\",\"\",data)\n",
        "    return data\n",
        "\n",
        "def stopword_cleaner(data):\n",
        "    sw_indonesia = stopwords.words(\"indonesian\")\n",
        "    data  = [word for word in data if word not in sw_indonesia]\n",
        "    data = ' '.join(data)\n",
        "    return data\n",
        "\n",
        "for index in range (len(df['clean_title'])):\n",
        "  df['clean_title'].iloc[index] = case_folding(df['clean_title'].iloc[index])\n",
        "  df['clean_title'].iloc[index] = word_tokenize(df['clean_title'].iloc[index])\n",
        "  df['clean_title'].iloc[index] = stopword_cleaner(df['clean_title'].iloc[index])\n",
        "\n",
        "df.head()\n",
        "\n",
        "df.to_csv('kompas_20211201.csv', index=False)"
      ]
    },
    {
      "cell_type": "code",
      "execution_count": null,
      "id": "b21c9d97",
      "metadata": {
        "id": "b21c9d97",
        "outputId": "ccfc3cb1-8c7a-4f2f-ec2b-70b1ed33bf2c"
      },
      "outputs": [
        {
          "data": {
            "text/html": [
              "<div>\n",
              "<style scoped>\n",
              "    .dataframe tbody tr th:only-of-type {\n",
              "        vertical-align: middle;\n",
              "    }\n",
              "\n",
              "    .dataframe tbody tr th {\n",
              "        vertical-align: top;\n",
              "    }\n",
              "\n",
              "    .dataframe thead th {\n",
              "        text-align: right;\n",
              "    }\n",
              "</style>\n",
              "<table border=\"1\" class=\"dataframe\">\n",
              "  <thead>\n",
              "    <tr style=\"text-align: right;\">\n",
              "      <th></th>\n",
              "      <th>date</th>\n",
              "      <th>title</th>\n",
              "      <th>clean_title</th>\n",
              "    </tr>\n",
              "  </thead>\n",
              "  <tbody>\n",
              "    <tr>\n",
              "      <th>0</th>\n",
              "      <td>2021-01-12</td>\n",
              "      <td>Genoa Vs AC Milan, Shevchenko Ingin Buat Manta...</td>\n",
              "      <td>genoa vs ac milan shevchenko mantan klub kesul...</td>\n",
              "    </tr>\n",
              "    <tr>\n",
              "      <th>1</th>\n",
              "      <td>2021-01-12</td>\n",
              "      <td>ODHA di Depok Masih Dapat Stigma Negatif</td>\n",
              "      <td>odha depok stigma negatif</td>\n",
              "    </tr>\n",
              "    <tr>\n",
              "      <th>2</th>\n",
              "      <td>2021-01-12</td>\n",
              "      <td>Pemprov Jakarta Bentuk Tim Khusus Awasi Alat M...</td>\n",
              "      <td>pemprov jakarta bentuk tim khusus awasi alat m...</td>\n",
              "    </tr>\n",
              "    <tr>\n",
              "      <th>3</th>\n",
              "      <td>2021-01-12</td>\n",
              "      <td>Penonton Lokal Piala AFF 2020 Acuhkan 5 Aturan...</td>\n",
              "      <td>penonton lokal piala aff acuhkan aturan</td>\n",
              "    </tr>\n",
              "    <tr>\n",
              "      <th>4</th>\n",
              "      <td>2021-01-12</td>\n",
              "      <td>Pada Akhir Pekan, Penumpang di Bandara Soekarn...</td>\n",
              "      <td>pekan penumpang bandara soekarno hatta capai o...</td>\n",
              "    </tr>\n",
              "  </tbody>\n",
              "</table>\n",
              "</div>"
            ],
            "text/plain": [
              "         date                                              title  \\\n",
              "0  2021-01-12  Genoa Vs AC Milan, Shevchenko Ingin Buat Manta...   \n",
              "1  2021-01-12           ODHA di Depok Masih Dapat Stigma Negatif   \n",
              "2  2021-01-12  Pemprov Jakarta Bentuk Tim Khusus Awasi Alat M...   \n",
              "3  2021-01-12  Penonton Lokal Piala AFF 2020 Acuhkan 5 Aturan...   \n",
              "4  2021-01-12  Pada Akhir Pekan, Penumpang di Bandara Soekarn...   \n",
              "\n",
              "                                         clean_title  \n",
              "0  genoa vs ac milan shevchenko mantan klub kesul...  \n",
              "1                          odha depok stigma negatif  \n",
              "2  pemprov jakarta bentuk tim khusus awasi alat m...  \n",
              "3            penonton lokal piala aff acuhkan aturan  \n",
              "4  pekan penumpang bandara soekarno hatta capai o...  "
            ]
          },
          "execution_count": 194,
          "metadata": {},
          "output_type": "execute_result"
        }
      ],
      "source": [
        "df.head()"
      ]
    },
    {
      "cell_type": "code",
      "execution_count": null,
      "id": "9a246acb",
      "metadata": {
        "id": "9a246acb",
        "outputId": "dabe1336-8b56-4abf-d3ca-488a894677b9"
      },
      "outputs": [
        {
          "data": {
            "image/png": "[encoded data removed]",
            "text/plain": [
              "<Figure size 432x288 with 1 Axes>"
            ]
          },
          "metadata": {
            "needs_background": "light"
          },
          "output_type": "display_data"
        },
        {
          "data": {
            "image/png": "[encoded data removed]",
            "text/plain": [
              "<Figure size 432x288 with 1 Axes>"
            ]
          },
          "metadata": {
            "needs_background": "light"
          },
          "output_type": "display_data"
        },
        {
          "data": {
            "image/png": "[encoded data removed]",
            "text/plain": [
              "<Figure size 432x288 with 1 Axes>"
            ]
          },
          "metadata": {
            "needs_background": "light"
          },
          "output_type": "display_data"
        },
        {
          "name": "stdout",
          "output_type": "stream",
          "text": [
            "<FreqDist with 1073 samples and 1523 outcomes>\n",
            "  \n",
            "[('jakarta', 10), ('covid', 10), ('indonesia', 10), ('lagu', 10), ('polisi', 9), ('warga', 9), ('lirik', 9), ('chord', 8), ('bwf', 7), ('world', 7), ('tour', 7), ('finals', 7), ('omicron', 6), ('teroris', 6), ('korban', 6), ('aids', 6), ('vs', 5), ('aturan', 5), ('varian', 5), ('jokowi', 5)]\n",
            "  \n"
          ]
        },
        {
          "data": {
            "image/png": "[encoded data removed]",
            "text/plain": [
              "<Figure size 432x288 with 1 Axes>"
            ]
          },
          "metadata": {
            "needs_background": "light"
          },
          "output_type": "display_data"
        },
        {
          "name": "stdout",
          "output_type": "stream",
          "text": [
            "(chord, lagu)           8\n",
            "(lirik, chord)          8\n",
            "(bwf, world)            7\n",
            "(world, tour)           7\n",
            "(tour, finals)          7\n",
            "(terduga, teroris)      4\n",
            "(piala, aff)            4\n",
            "(varian, omicron)       4\n",
            "(ppkm, level)           4\n",
            "(aids, sedunia)         3\n",
            "(libur, natal)          3\n",
            "(finals, marcus)        3\n",
            "(hiv, aids)             3\n",
            "(luwu, timur)           3\n",
            "(marcus, kevin)         3\n",
            "(ptm, terbatas)         3\n",
            "(kunto, aji)            3\n",
            "(tropis, teratai)       2\n",
            "(mahasiswi, unsri)      2\n",
            "(pelecehan, seksual)    2\n",
            "dtype: int64\n"
          ]
        }
      ],
      "source": [
        "import pandas as pd\n",
        "from nltk.tokenize import word_tokenize\n",
        "import matplotlib.pyplot as plt\n",
        "import numpy as np\n",
        "from nltk.probability import FreqDist\n",
        "import nltk\n",
        "\n",
        "df = pd.read_csv('kompas_20211201.csv')\n",
        "df.head()\n",
        "\n",
        "bin_range = np.arange(0, 260, 10)\n",
        "df['clean_title'].str.len().hist(bins=bin_range)\n",
        "plt.show()\n",
        "\n",
        "bin_range = np.arange(0, 50)\n",
        "df['clean_title'].str.split().map(lambda x: len(x)).hist(bins=bin_range)\n",
        "plt.show()\n",
        "\n",
        "df['clean_title'].str.split().apply(lambda x : [len(i) for i in x]).map(lambda x: np.mean(x)).hist()\n",
        "plt.show()\n",
        "\n",
        "query = df['clean_title'].apply(lambda x: word_tokenize(str(x)))\n",
        "clean_title = [word for tweet in query for word in tweet]\n",
        "fqdist = FreqDist(clean_title)\n",
        "print(fqdist)\n",
        "print('  ')\n",
        "most_common_word = fqdist.most_common(20)\n",
        "print(most_common_word)\n",
        "print('  ')\n",
        "fqdist.plot(20,cumulative=False)\n",
        "plt.show()\n",
        "\n",
        "result = pd.Series(nltk.ngrams(clean_title, 2)).value_counts()[:20]\n",
        "print(result)"
      ]
    },
    {
      "cell_type": "code",
      "execution_count": null,
      "id": "0afb862c",
      "metadata": {
        "id": "0afb862c",
        "outputId": "99c4536f-310f-4390-abf3-5bd88815e84b"
      },
      "outputs": [
        {
          "data": {
            "text/html": [
              "<div>\n",
              "<style scoped>\n",
              "    .dataframe tbody tr th:only-of-type {\n",
              "        vertical-align: middle;\n",
              "    }\n",
              "\n",
              "    .dataframe tbody tr th {\n",
              "        vertical-align: top;\n",
              "    }\n",
              "\n",
              "    .dataframe thead th {\n",
              "        text-align: right;\n",
              "    }\n",
              "</style>\n",
              "<table border=\"1\" class=\"dataframe\">\n",
              "  <thead>\n",
              "    <tr style=\"text-align: right;\">\n",
              "      <th></th>\n",
              "      <th>date</th>\n",
              "      <th>title</th>\n",
              "      <th>clean_title</th>\n",
              "    </tr>\n",
              "  </thead>\n",
              "  <tbody>\n",
              "    <tr>\n",
              "      <th>0</th>\n",
              "      <td>2021-01-12</td>\n",
              "      <td>Genoa Vs AC Milan, Shevchenko Ingin Buat Manta...</td>\n",
              "      <td>genoa vs ac milan shevchenko mantan klub kesul...</td>\n",
              "    </tr>\n",
              "    <tr>\n",
              "      <th>1</th>\n",
              "      <td>2021-01-12</td>\n",
              "      <td>ODHA di Depok Masih Dapat Stigma Negatif</td>\n",
              "      <td>odha depok stigma negatif</td>\n",
              "    </tr>\n",
              "    <tr>\n",
              "      <th>2</th>\n",
              "      <td>2021-01-12</td>\n",
              "      <td>Pemprov Jakarta Bentuk Tim Khusus Awasi Alat M...</td>\n",
              "      <td>pemprov jakarta bentuk tim khusus awasi alat m...</td>\n",
              "    </tr>\n",
              "    <tr>\n",
              "      <th>3</th>\n",
              "      <td>2021-01-12</td>\n",
              "      <td>Penonton Lokal Piala AFF 2020 Acuhkan 5 Aturan...</td>\n",
              "      <td>penonton lokal piala aff acuhkan aturan</td>\n",
              "    </tr>\n",
              "    <tr>\n",
              "      <th>4</th>\n",
              "      <td>2021-01-12</td>\n",
              "      <td>Pada Akhir Pekan, Penumpang di Bandara Soekarn...</td>\n",
              "      <td>pekan penumpang bandara soekarno hatta capai o...</td>\n",
              "    </tr>\n",
              "  </tbody>\n",
              "</table>\n",
              "</div>"
            ],
            "text/plain": [
              "         date                                              title  \\\n",
              "0  2021-01-12  Genoa Vs AC Milan, Shevchenko Ingin Buat Manta...   \n",
              "1  2021-01-12           ODHA di Depok Masih Dapat Stigma Negatif   \n",
              "2  2021-01-12  Pemprov Jakarta Bentuk Tim Khusus Awasi Alat M...   \n",
              "3  2021-01-12  Penonton Lokal Piala AFF 2020 Acuhkan 5 Aturan...   \n",
              "4  2021-01-12  Pada Akhir Pekan, Penumpang di Bandara Soekarn...   \n",
              "\n",
              "                                         clean_title  \n",
              "0  genoa vs ac milan shevchenko mantan klub kesul...  \n",
              "1                          odha depok stigma negatif  \n",
              "2  pemprov jakarta bentuk tim khusus awasi alat m...  \n",
              "3            penonton lokal piala aff acuhkan aturan  \n",
              "4  pekan penumpang bandara soekarno hatta capai o...  "
            ]
          },
          "execution_count": 196,
          "metadata": {},
          "output_type": "execute_result"
        }
      ],
      "source": [
        "df.head()"
      ]
    }
  ],
  "metadata": {
    "kernelspec": {
      "display_name": "Python 3 (ipykernel)",
      "language": "python",
      "name": "python3"
    },
    "language_info": {
      "codemirror_mode": {
        "name": "ipython",
        "version": 3
      },
      "file_extension": ".py",
      "mimetype": "text/x-python",
      "name": "python",
      "nbconvert_exporter": "python",
      "pygments_lexer": "ipython3",
      "version": "3.9.7"
    },
    "colab": {
      "name": "Quiz 3.ipynb",
      "provenance": [],
      "collapsed_sections": []
    }
  },
  "nbformat": 4,
  "nbformat_minor": 5
}