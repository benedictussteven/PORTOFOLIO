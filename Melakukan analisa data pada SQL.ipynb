{
  "cells": [
    {
      "cell_type": "code",
      "execution_count": null,
      "metadata": {
        "id": "ArQVHUx_6ltN"
      },
      "outputs": [],
      "source": [
        "from mysql.connector import connect\n",
        "import pandas as pd\n",
        "import seaborn as sns"
      ]
    },
    {
      "cell_type": "code",
      "execution_count": null,
      "metadata": {
        "id": "DXzAzeCG6ltP"
      },
      "outputs": [],
      "source": [
        "#connect database\n",
        "def connect_database(database):\n",
        "  db = connect(\n",
        "    host=\"\",\n",
        "    user=\"\",\n",
        "    password=\"\",\n",
        "    database= database\n",
        "  )\n",
        "\n",
        "  return db"
      ]
    },
    {
      "cell_type": "code",
      "execution_count": null,
      "metadata": {
        "id": "Jdb15tMd6ltQ",
        "outputId": "c68b7ced-7292-4185-f275-856027133275"
      },
      "outputs": [
        {
          "name": "stdout",
          "output_type": "stream",
          "text": [
            "<mysql.connector.connection_cext.CMySQLConnection object at 0x000002835B996040>\n"
          ]
        }
      ],
      "source": [
        "db = connect_database('imdb_movie')\n",
        "print(db)"
      ]
    },
    {
      "cell_type": "markdown",
      "metadata": {
        "id": "cME3aHFX6ltR"
      },
      "source": [
        "1. Menampilkan 5 direktur dengan jumlah film terbanyak dalam daftar. Data tersebut akan menampilkan secara terurut dari urutan 1 (paling banyak) ke 5."
      ]
    },
    {
      "cell_type": "code",
      "execution_count": null,
      "metadata": {
        "id": "2hQH7YWn6ltS"
      },
      "outputs": [],
      "source": [
        "db = connect_database('imdb_movie')\n",
        "\n",
        "def most_maker_director(db):\n",
        "    cursor_db = db.cursor()\n",
        "    query = \"select director_name, count(movie_title) from movies where director_name is not null group by 1 order by 2 desc;\"\n",
        "    cursor_db.execute(query)\n",
        "    result1 = cursor_db.fetchmany(5)\n",
        "    data1 = pd.DataFrame(result1, columns = ['Director Name', 'Count'])\n",
        "    data1.index += 1\n",
        "    return data1['Director Name'].to_string()"
      ]
    },
    {
      "cell_type": "markdown",
      "metadata": {
        "id": "qwH8p3VX6ltT"
      },
      "source": [
        "2. Menampilkan 10 direktur dengan total jumlah pendapatan terbesar untuk semua film yang dia buat. Data tersebut akan menampilkan secara terurut dari urutan 1 (paling banyak) ke 10 beserta total pendapatan dari masing-masing direktur.\n",
        "\n",
        "Pendapatan bisa didapatkan dari nilai gross"
      ]
    },
    {
      "cell_type": "code",
      "execution_count": null,
      "metadata": {
        "id": "nFqFmoad6ltU"
      },
      "outputs": [],
      "source": [
        "db = connect_database('imdb_movie')\n",
        "\n",
        "def most_profitable_director(db):\n",
        "    cursor_db = db.cursor()\n",
        "    query1 = \"select director_name, sum(gross)from movies where director_name is not null group by 1 order by 2 desc;\"\n",
        "    cursor_db.execute(query1)\n",
        "    result2 = cursor_db.fetchmany(10)\n",
        "    data2 = pd.DataFrame(result2, columns = ['Director Name', 'Count'])\n",
        "    data2.index += 1\n",
        "    return data2.to_string(header=False)"
      ]
    },
    {
      "cell_type": "markdown",
      "metadata": {
        "id": "b_5ui6Mp6ltV"
      },
      "source": [
        "3. Menampilkan 15 film dengan pendapatan terbesar. Data tersebut akan menampilkan secara terurut dari urutan 1 (paling banyak) ke 15 beserta pendapatan dari masing-masing film"
      ]
    },
    {
      "cell_type": "code",
      "execution_count": null,
      "metadata": {
        "id": "hB60RBAp6ltW"
      },
      "outputs": [],
      "source": [
        "db = connect_database('imdb_movie')\n",
        "\n",
        "def most_profitable_movie(db):\n",
        "    cursor_db = db.cursor()\n",
        "    query2 = \"select movie_title,title_year,gross from movies group by 1 order by 3 desc;\"\n",
        "    cursor_db.execute(query2)\n",
        "    result3 = cursor_db.fetchmany(15)\n",
        "    data3 = pd.DataFrame(result3, columns = ['Movie Title', 'Title Year', 'Gross'])\n",
        "    data3.index += 1\n",
        "    return data3.to_string(header=False)"
      ]
    },
    {
      "cell_type": "markdown",
      "metadata": {
        "id": "uXpVjqq66ltX"
      },
      "source": [
        "4. Menampilkan plot distribusi budget dari semua film pada tahun yang ditentukan. fungsi ini memiliki input, yaitu adalah tahun."
      ]
    },
    {
      "cell_type": "code",
      "execution_count": null,
      "metadata": {
        "id": "8vmrnNIk6ltY"
      },
      "outputs": [],
      "source": [
        "db = connect_database('imdb_movie')\n",
        "\n",
        "def budget_distribution(db, year):\n",
        "    cursor_db = db.cursor()\n",
        "    query3 ='''\n",
        "    select director_name, \n",
        "    count(budget)\n",
        "    from movies \n",
        "    where title_year = 2001\n",
        "    group by 1 order by 2 DESC;\n",
        "    '''\n",
        "    cursor_db.execute(query3)\n",
        "    result4 = cursor_db.fetchall()\n",
        "    data4 = pd.DataFrame(result4, columns = ['Director Name', 'Count'])\n",
        "    data4.index += 1\n",
        "    count = list(data4['Count'])\n",
        "    return count"
      ]
    },
    {
      "cell_type": "markdown",
      "metadata": {
        "id": "xfQjRgoK6ltZ"
      },
      "source": [
        "Semua sel di bawah digunakan untuk pemanggilan fungsi dan menunjukan hasil yang diharapkan."
      ]
    },
    {
      "cell_type": "code",
      "execution_count": null,
      "metadata": {
        "id": "x5woyaLX6lta",
        "outputId": "51f9d1bf-df59-4ef0-d66e-95d09ef2f04e"
      },
      "outputs": [
        {
          "name": "stdout",
          "output_type": "stream",
          "text": [
            "1    Steven Spielberg\n",
            "2         Woody Allen\n",
            "3     Martin Scorsese\n",
            "4      Clint Eastwood\n",
            "5        Ridley Scott\n"
          ]
        }
      ],
      "source": [
        "print(most_maker_director(db))"
      ]
    },
    {
      "cell_type": "code",
      "execution_count": null,
      "metadata": {
        "id": "fQq1ZJml6ltb",
        "outputId": "59692e63-f1d8-4d6a-e63a-8e9b8cbfea1a"
      },
      "outputs": [
        {
          "name": "stdout",
          "output_type": "stream",
          "text": [
            "1    Steven Spielberg  4.114233e+09\n",
            "2       Peter Jackson  2.592969e+09\n",
            "3         Michael Bay  2.231243e+09\n",
            "4          Tim Burton  2.071275e+09\n",
            "5           Sam Raimi  2.049549e+09\n",
            "6       James Cameron  1.948126e+09\n",
            "7   Christopher Nolan  1.813228e+09\n",
            "8        George Lucas  1.741418e+09\n",
            "9         Joss Whedon  1.730887e+09\n",
            "10    Robert Zemeckis  1.619309e+09\n"
          ]
        }
      ],
      "source": [
        "print(most_profitable_director(db))"
      ]
    },
    {
      "cell_type": "code",
      "execution_count": null,
      "metadata": {
        "id": "vpZquBQZ6ltb",
        "outputId": "0ff90d4c-42b9-49dd-c3e4-7082ddc12c5b"
      },
      "outputs": [
        {
          "name": "stdout",
          "output_type": "stream",
          "text": [
            "1                                       Avatar   2009.0  760505847.0\n",
            "2                                      Titanic   1997.0  658672302.0\n",
            "3                               Jurassic World   2015.0  652177271.0\n",
            "4                                 The Avengers   2012.0  623279547.0\n",
            "5                              The Dark Knight   2008.0  533316061.0\n",
            "6    Star Wars: Episode I - The Phantom Menace   1999.0  474544677.0\n",
            "7           Star Wars: Episode IV - A New Hope   1977.0  460935665.0\n",
            "8                      Avengers: Age of Ultron   2015.0  458991599.0\n",
            "9                        The Dark Knight Rises   2012.0  448130642.0\n",
            "10                                     Shrek 2   2004.0  436471036.0\n",
            "11                  E.T. the Extra-Terrestrial   1982.0  434949459.0\n",
            "12             The Hunger Games: Catching Fire   2013.0  424645577.0\n",
            "13  Pirates of the Caribbean: Dead Man's Chest   2006.0  423032628.0\n",
            "14                               The Lion King   1994.0  422783777.0\n",
            "15                                 Toy Story 3   2010.0  414984497.0\n"
          ]
        }
      ],
      "source": [
        "print(most_profitable_movie(db))"
      ]
    },
    {
      "cell_type": "code",
      "execution_count": null,
      "metadata": {
        "id": "UBDWhexU6ltc",
        "outputId": "aec8b431-f300-4255-ef52-f2eb47a23470"
      },
      "outputs": [
        {
          "data": {
            "image/png": "[encoded data removed]",
            "text/plain": [
              "<Figure size 432x288 with 1 Axes>"
            ]
          },
          "metadata": {},
          "output_type": "display_data"
        }
      ],
      "source": [
        "year = 2001\n",
        "count = budget_distribution(db, 2001)\n",
        "sns.set_theme();\n",
        "ax = sns.distplot(count)"
      ]
    }
  ],
  "metadata": {
    "interpreter": {
      "hash": "b02d93efda564da1915d42b0288c26f05ac833e7645184a564f32e638d57cc3e"
    },
    "kernelspec": {
      "display_name": "Python 3 (ipykernel)",
      "language": "python",
      "name": "python3"
    },
    "language_info": {
      "codemirror_mode": {
        "name": "ipython",
        "version": 3
      },
      "file_extension": ".py",
      "mimetype": "text/x-python",
      "name": "python",
      "nbconvert_exporter": "python",
      "pygments_lexer": "ipython3",
      "version": "3.9.7"
    },
    "colab": {
      "name": "uhek.ipynb",
      "provenance": [],
      "collapsed_sections": []
    }
  },
  "nbformat": 4,
  "nbformat_minor": 0
}
